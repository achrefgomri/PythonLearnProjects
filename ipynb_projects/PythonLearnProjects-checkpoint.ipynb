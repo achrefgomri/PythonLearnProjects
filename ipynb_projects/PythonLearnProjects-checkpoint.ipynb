{
 "cells": [
  {
   "cell_type": "code",
   "execution_count": 19,
   "metadata": {},
   "outputs": [
    {
     "name": "stdout",
     "output_type": "stream",
     "text": [
      "première réson li akrem bhim: aa\n",
      "dexième ...bb\n",
      "akrem bhim 5ater bb w zeda 5ater aa\n"
     ]
    }
   ],
   "source": [
    "sbab1=input(\"première réson li akrem bhim: \")\n",
    "sbab2=input(\"dexième ...\")\n",
    "print (\"akrem bhim 5ater {001} w zeda 5ater {0}\".format(sbab1,sbab2))"
   ]
  },
  {
   "cell_type": "code",
   "execution_count": null,
   "metadata": {},
   "outputs": [],
   "source": [
    "prenom =\"gomri\"\n",
    "akrem=\"akrem \"+prenom\n",
    "akrem"
   ]
  },
  {
   "cell_type": "code",
   "execution_count": null,
   "metadata": {},
   "outputs": [],
   "source": []
  }
 ],
 "metadata": {
  "kernelspec": {
   "display_name": "Python 3",
   "language": "python",
   "name": "python3"
  },
  "language_info": {
   "codemirror_mode": {
    "name": "ipython",
    "version": 3
   },
   "file_extension": ".py",
   "mimetype": "text/x-python",
   "name": "python",
   "nbconvert_exporter": "python",
   "pygments_lexer": "ipython3",
   "version": "3.7.4"
  }
 },
 "nbformat": 4,
 "nbformat_minor": 2
}
